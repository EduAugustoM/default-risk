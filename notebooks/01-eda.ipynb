{
 "cells": [
  {
   "cell_type": "code",
   "execution_count": null,
   "id": "16b9784b",
   "metadata": {},
   "outputs": [],
   "source": [
    "!git clone https://github.com/datarisk-io/datarisk-case-ds-junior.git"
   ]
  },
  {
   "cell_type": "markdown",
   "id": "beb8d72c",
   "metadata": {},
   "source": [
    "# base desenvolvimento"
   ]
  },
  {
   "cell_type": "code",
   "execution_count": 1,
   "id": "e9ea27db",
   "metadata": {},
   "outputs": [],
   "source": [
    "import pandas as pd\n",
    "import numpy as np"
   ]
  },
  {
   "cell_type": "code",
   "execution_count": null,
   "id": "a9b005a7",
   "metadata": {},
   "outputs": [],
   "source": [
    "# %load_ext autoreload\n",
    "# %autoreload 2"
   ]
  },
  {
   "cell_type": "code",
   "execution_count": 2,
   "id": "641558bb",
   "metadata": {},
   "outputs": [],
   "source": [
    "from datetime import timedelta\n",
    "import sys\n",
    "import os\n",
    "sys.path.append(os.path.abspath('../'))"
   ]
  },
  {
   "cell_type": "code",
   "execution_count": 3,
   "id": "76e8afc7",
   "metadata": {},
   "outputs": [],
   "source": [
    "from src.utils import converter_colunas_datetime, mostrar_linhas_vazias"
   ]
  },
  {
   "cell_type": "code",
   "execution_count": 5,
   "id": "bd3f7d77",
   "metadata": {},
   "outputs": [
    {
     "data": {
      "text/html": [
       "<div>\n",
       "<style scoped>\n",
       "    .dataframe tbody tr th:only-of-type {\n",
       "        vertical-align: middle;\n",
       "    }\n",
       "\n",
       "    .dataframe tbody tr th {\n",
       "        vertical-align: top;\n",
       "    }\n",
       "\n",
       "    .dataframe thead th {\n",
       "        text-align: right;\n",
       "    }\n",
       "</style>\n",
       "<table border=\"1\" class=\"dataframe\">\n",
       "  <thead>\n",
       "    <tr style=\"text-align: right;\">\n",
       "      <th></th>\n",
       "      <th>ID_CLIENTE</th>\n",
       "      <th>SAFRA_REF</th>\n",
       "      <th>DATA_EMISSAO_DOCUMENTO</th>\n",
       "      <th>DATA_PAGAMENTO</th>\n",
       "      <th>DATA_VENCIMENTO</th>\n",
       "      <th>VALOR_A_PAGAR</th>\n",
       "      <th>TAXA</th>\n",
       "    </tr>\n",
       "  </thead>\n",
       "  <tbody>\n",
       "    <tr>\n",
       "      <th>0</th>\n",
       "      <td>1661240395903230676</td>\n",
       "      <td>2018-08</td>\n",
       "      <td>2018-08-17</td>\n",
       "      <td>2018-09-06</td>\n",
       "      <td>2018-09-06</td>\n",
       "      <td>35516.41</td>\n",
       "      <td>6.99</td>\n",
       "    </tr>\n",
       "    <tr>\n",
       "      <th>1</th>\n",
       "      <td>1661240395903230676</td>\n",
       "      <td>2018-08</td>\n",
       "      <td>2018-08-19</td>\n",
       "      <td>2018-09-11</td>\n",
       "      <td>2018-09-10</td>\n",
       "      <td>17758.21</td>\n",
       "      <td>6.99</td>\n",
       "    </tr>\n",
       "    <tr>\n",
       "      <th>2</th>\n",
       "      <td>1661240395903230676</td>\n",
       "      <td>2018-08</td>\n",
       "      <td>2018-08-26</td>\n",
       "      <td>2018-09-18</td>\n",
       "      <td>2018-09-17</td>\n",
       "      <td>17431.96</td>\n",
       "      <td>6.99</td>\n",
       "    </tr>\n",
       "    <tr>\n",
       "      <th>3</th>\n",
       "      <td>1661240395903230676</td>\n",
       "      <td>2018-08</td>\n",
       "      <td>2018-08-30</td>\n",
       "      <td>2018-10-11</td>\n",
       "      <td>2018-10-05</td>\n",
       "      <td>1341.00</td>\n",
       "      <td>6.99</td>\n",
       "    </tr>\n",
       "    <tr>\n",
       "      <th>4</th>\n",
       "      <td>1661240395903230676</td>\n",
       "      <td>2018-08</td>\n",
       "      <td>2018-08-31</td>\n",
       "      <td>2018-09-20</td>\n",
       "      <td>2018-09-20</td>\n",
       "      <td>21309.85</td>\n",
       "      <td>6.99</td>\n",
       "    </tr>\n",
       "  </tbody>\n",
       "</table>\n",
       "</div>"
      ],
      "text/plain": [
       "            ID_CLIENTE SAFRA_REF DATA_EMISSAO_DOCUMENTO DATA_PAGAMENTO  \\\n",
       "0  1661240395903230676   2018-08             2018-08-17     2018-09-06   \n",
       "1  1661240395903230676   2018-08             2018-08-19     2018-09-11   \n",
       "2  1661240395903230676   2018-08             2018-08-26     2018-09-18   \n",
       "3  1661240395903230676   2018-08             2018-08-30     2018-10-11   \n",
       "4  1661240395903230676   2018-08             2018-08-31     2018-09-20   \n",
       "\n",
       "  DATA_VENCIMENTO  VALOR_A_PAGAR  TAXA  \n",
       "0      2018-09-06       35516.41  6.99  \n",
       "1      2018-09-10       17758.21  6.99  \n",
       "2      2018-09-17       17431.96  6.99  \n",
       "3      2018-10-05        1341.00  6.99  \n",
       "4      2018-09-20       21309.85  6.99  "
      ]
     },
     "execution_count": 5,
     "metadata": {},
     "output_type": "execute_result"
    }
   ],
   "source": [
    "base_dev = pd.read_csv('datarisk-case-ds-junior/data/base_pagamentos_desenvolvimento.csv', sep=';')\n",
    "base_dev.head()"
   ]
  },
  {
   "cell_type": "code",
   "execution_count": 6,
   "id": "06c35394",
   "metadata": {},
   "outputs": [
    {
     "name": "stdout",
     "output_type": "stream",
     "text": [
      "<class 'pandas.core.frame.DataFrame'>\n",
      "RangeIndex: 77414 entries, 0 to 77413\n",
      "Data columns (total 7 columns):\n",
      " #   Column                  Non-Null Count  Dtype  \n",
      "---  ------                  --------------  -----  \n",
      " 0   ID_CLIENTE              77414 non-null  int64  \n",
      " 1   SAFRA_REF               77414 non-null  object \n",
      " 2   DATA_EMISSAO_DOCUMENTO  77414 non-null  object \n",
      " 3   DATA_PAGAMENTO          77414 non-null  object \n",
      " 4   DATA_VENCIMENTO         77414 non-null  object \n",
      " 5   VALOR_A_PAGAR           76244 non-null  float64\n",
      " 6   TAXA                    77414 non-null  float64\n",
      "dtypes: float64(2), int64(1), object(4)\n",
      "memory usage: 4.1+ MB\n"
     ]
    }
   ],
   "source": [
    "base_dev.info()"
   ]
  },
  {
   "cell_type": "code",
   "execution_count": 8,
   "id": "2cc49a60",
   "metadata": {},
   "outputs": [
    {
     "name": "stdout",
     "output_type": "stream",
     "text": [
      "  - Linhas antes: 77414\n",
      "  - Linhas depois: 76244\n",
      "  - Linhas vazias: 1170 (1.51% do total)\n"
     ]
    }
   ],
   "source": [
    "mostrar_linhas_vazias(base_dev)"
   ]
  },
  {
   "cell_type": "code",
   "execution_count": 9,
   "id": "07ba226e",
   "metadata": {},
   "outputs": [],
   "source": [
    "base_dev.dropna(inplace=True)"
   ]
  },
  {
   "cell_type": "code",
   "execution_count": 10,
   "id": "0c6e9da7",
   "metadata": {},
   "outputs": [
    {
     "data": {
      "text/plain": [
       "np.int64(0)"
      ]
     },
     "execution_count": 10,
     "metadata": {},
     "output_type": "execute_result"
    }
   ],
   "source": [
    "base_dev.duplicated().sum()"
   ]
  },
  {
   "cell_type": "code",
   "execution_count": 11,
   "id": "3579b706",
   "metadata": {},
   "outputs": [
    {
     "data": {
      "text/html": [
       "<div>\n",
       "<style scoped>\n",
       "    .dataframe tbody tr th:only-of-type {\n",
       "        vertical-align: middle;\n",
       "    }\n",
       "\n",
       "    .dataframe tbody tr th {\n",
       "        vertical-align: top;\n",
       "    }\n",
       "\n",
       "    .dataframe thead th {\n",
       "        text-align: right;\n",
       "    }\n",
       "</style>\n",
       "<table border=\"1\" class=\"dataframe\">\n",
       "  <thead>\n",
       "    <tr style=\"text-align: right;\">\n",
       "      <th></th>\n",
       "      <th>ID_CLIENTE</th>\n",
       "      <th>SAFRA_REF</th>\n",
       "      <th>DATA_EMISSAO_DOCUMENTO</th>\n",
       "      <th>DATA_PAGAMENTO</th>\n",
       "      <th>DATA_VENCIMENTO</th>\n",
       "      <th>VALOR_A_PAGAR</th>\n",
       "      <th>TAXA</th>\n",
       "    </tr>\n",
       "  </thead>\n",
       "  <tbody>\n",
       "    <tr>\n",
       "      <th>count</th>\n",
       "      <td>7.624400e+04</td>\n",
       "      <td>76244</td>\n",
       "      <td>76244</td>\n",
       "      <td>76244</td>\n",
       "      <td>76244</td>\n",
       "      <td>7.624400e+04</td>\n",
       "      <td>76244.000000</td>\n",
       "    </tr>\n",
       "    <tr>\n",
       "      <th>unique</th>\n",
       "      <td>NaN</td>\n",
       "      <td>35</td>\n",
       "      <td>1040</td>\n",
       "      <td>921</td>\n",
       "      <td>952</td>\n",
       "      <td>NaN</td>\n",
       "      <td>NaN</td>\n",
       "    </tr>\n",
       "    <tr>\n",
       "      <th>top</th>\n",
       "      <td>NaN</td>\n",
       "      <td>2021-05</td>\n",
       "      <td>2021-05-16</td>\n",
       "      <td>2021-02-17</td>\n",
       "      <td>2019-03-06</td>\n",
       "      <td>NaN</td>\n",
       "      <td>NaN</td>\n",
       "    </tr>\n",
       "    <tr>\n",
       "      <th>freq</th>\n",
       "      <td>NaN</td>\n",
       "      <td>2491</td>\n",
       "      <td>206</td>\n",
       "      <td>308</td>\n",
       "      <td>352</td>\n",
       "      <td>NaN</td>\n",
       "      <td>NaN</td>\n",
       "    </tr>\n",
       "    <tr>\n",
       "      <th>mean</th>\n",
       "      <td>4.662131e+18</td>\n",
       "      <td>NaN</td>\n",
       "      <td>NaN</td>\n",
       "      <td>NaN</td>\n",
       "      <td>NaN</td>\n",
       "      <td>4.659078e+04</td>\n",
       "      <td>6.789276</td>\n",
       "    </tr>\n",
       "    <tr>\n",
       "      <th>std</th>\n",
       "      <td>2.664931e+18</td>\n",
       "      <td>NaN</td>\n",
       "      <td>NaN</td>\n",
       "      <td>NaN</td>\n",
       "      <td>NaN</td>\n",
       "      <td>4.643393e+04</td>\n",
       "      <td>1.798137</td>\n",
       "    </tr>\n",
       "    <tr>\n",
       "      <th>min</th>\n",
       "      <td>8.784237e+15</td>\n",
       "      <td>NaN</td>\n",
       "      <td>NaN</td>\n",
       "      <td>NaN</td>\n",
       "      <td>NaN</td>\n",
       "      <td>1.000000e-01</td>\n",
       "      <td>4.990000</td>\n",
       "    </tr>\n",
       "    <tr>\n",
       "      <th>25%</th>\n",
       "      <td>2.369365e+18</td>\n",
       "      <td>NaN</td>\n",
       "      <td>NaN</td>\n",
       "      <td>NaN</td>\n",
       "      <td>NaN</td>\n",
       "      <td>1.876536e+04</td>\n",
       "      <td>5.990000</td>\n",
       "    </tr>\n",
       "    <tr>\n",
       "      <th>50%</th>\n",
       "      <td>4.817817e+18</td>\n",
       "      <td>NaN</td>\n",
       "      <td>NaN</td>\n",
       "      <td>NaN</td>\n",
       "      <td>NaN</td>\n",
       "      <td>3.475869e+04</td>\n",
       "      <td>5.990000</td>\n",
       "    </tr>\n",
       "    <tr>\n",
       "      <th>75%</th>\n",
       "      <td>6.969349e+18</td>\n",
       "      <td>NaN</td>\n",
       "      <td>NaN</td>\n",
       "      <td>NaN</td>\n",
       "      <td>NaN</td>\n",
       "      <td>6.093384e+04</td>\n",
       "      <td>6.990000</td>\n",
       "    </tr>\n",
       "    <tr>\n",
       "      <th>max</th>\n",
       "      <td>9.206031e+18</td>\n",
       "      <td>NaN</td>\n",
       "      <td>NaN</td>\n",
       "      <td>NaN</td>\n",
       "      <td>NaN</td>\n",
       "      <td>4.400000e+06</td>\n",
       "      <td>11.990000</td>\n",
       "    </tr>\n",
       "  </tbody>\n",
       "</table>\n",
       "</div>"
      ],
      "text/plain": [
       "          ID_CLIENTE SAFRA_REF DATA_EMISSAO_DOCUMENTO DATA_PAGAMENTO  \\\n",
       "count   7.624400e+04     76244                  76244          76244   \n",
       "unique           NaN        35                   1040            921   \n",
       "top              NaN   2021-05             2021-05-16     2021-02-17   \n",
       "freq             NaN      2491                    206            308   \n",
       "mean    4.662131e+18       NaN                    NaN            NaN   \n",
       "std     2.664931e+18       NaN                    NaN            NaN   \n",
       "min     8.784237e+15       NaN                    NaN            NaN   \n",
       "25%     2.369365e+18       NaN                    NaN            NaN   \n",
       "50%     4.817817e+18       NaN                    NaN            NaN   \n",
       "75%     6.969349e+18       NaN                    NaN            NaN   \n",
       "max     9.206031e+18       NaN                    NaN            NaN   \n",
       "\n",
       "       DATA_VENCIMENTO  VALOR_A_PAGAR          TAXA  \n",
       "count            76244   7.624400e+04  76244.000000  \n",
       "unique             952            NaN           NaN  \n",
       "top         2019-03-06            NaN           NaN  \n",
       "freq               352            NaN           NaN  \n",
       "mean               NaN   4.659078e+04      6.789276  \n",
       "std                NaN   4.643393e+04      1.798137  \n",
       "min                NaN   1.000000e-01      4.990000  \n",
       "25%                NaN   1.876536e+04      5.990000  \n",
       "50%                NaN   3.475869e+04      5.990000  \n",
       "75%                NaN   6.093384e+04      6.990000  \n",
       "max                NaN   4.400000e+06     11.990000  "
      ]
     },
     "execution_count": 11,
     "metadata": {},
     "output_type": "execute_result"
    }
   ],
   "source": [
    "base_dev.describe(include='all')"
   ]
  },
  {
   "cell_type": "code",
   "execution_count": 12,
   "id": "f962fd5a",
   "metadata": {},
   "outputs": [],
   "source": [
    "base_dev = converter_colunas_datetime(\n",
    "    df=base_dev,\n",
    "    lista_colunas=['SAFRA_REF','DATA_EMISSAO_DOCUMENTO','DATA_VENCIMENTO', 'DATA_PAGAMENTO']\n",
    ")"
   ]
  },
  {
   "cell_type": "code",
   "execution_count": 13,
   "id": "5031cac7",
   "metadata": {},
   "outputs": [],
   "source": [
    "base_dev['DIAS_ATRASO'] = (base_dev['DATA_PAGAMENTO'] - base_dev['DATA_VENCIMENTO']).dt.days\n",
    "base_dev['INADIMPLENTE'] = (base_dev['DIAS_ATRASO'] >= 5).astype(int)"
   ]
  },
  {
   "cell_type": "code",
   "execution_count": 14,
   "id": "7922f049",
   "metadata": {},
   "outputs": [
    {
     "data": {
      "text/html": [
       "<div>\n",
       "<style scoped>\n",
       "    .dataframe tbody tr th:only-of-type {\n",
       "        vertical-align: middle;\n",
       "    }\n",
       "\n",
       "    .dataframe tbody tr th {\n",
       "        vertical-align: top;\n",
       "    }\n",
       "\n",
       "    .dataframe thead th {\n",
       "        text-align: right;\n",
       "    }\n",
       "</style>\n",
       "<table border=\"1\" class=\"dataframe\">\n",
       "  <thead>\n",
       "    <tr style=\"text-align: right;\">\n",
       "      <th></th>\n",
       "      <th>ID_CLIENTE</th>\n",
       "      <th>SAFRA_REF</th>\n",
       "      <th>DATA_EMISSAO_DOCUMENTO</th>\n",
       "      <th>DATA_PAGAMENTO</th>\n",
       "      <th>DATA_VENCIMENTO</th>\n",
       "      <th>VALOR_A_PAGAR</th>\n",
       "      <th>TAXA</th>\n",
       "      <th>DIAS_ATRASO</th>\n",
       "      <th>INADIMPLENTE</th>\n",
       "    </tr>\n",
       "  </thead>\n",
       "  <tbody>\n",
       "    <tr>\n",
       "      <th>0</th>\n",
       "      <td>1661240395903230676</td>\n",
       "      <td>2018-08-01</td>\n",
       "      <td>2018-08-17</td>\n",
       "      <td>2018-09-06</td>\n",
       "      <td>2018-09-06</td>\n",
       "      <td>35516.41</td>\n",
       "      <td>6.99</td>\n",
       "      <td>0</td>\n",
       "      <td>0</td>\n",
       "    </tr>\n",
       "    <tr>\n",
       "      <th>1</th>\n",
       "      <td>1661240395903230676</td>\n",
       "      <td>2018-08-01</td>\n",
       "      <td>2018-08-19</td>\n",
       "      <td>2018-09-11</td>\n",
       "      <td>2018-09-10</td>\n",
       "      <td>17758.21</td>\n",
       "      <td>6.99</td>\n",
       "      <td>1</td>\n",
       "      <td>0</td>\n",
       "    </tr>\n",
       "    <tr>\n",
       "      <th>2</th>\n",
       "      <td>1661240395903230676</td>\n",
       "      <td>2018-08-01</td>\n",
       "      <td>2018-08-26</td>\n",
       "      <td>2018-09-18</td>\n",
       "      <td>2018-09-17</td>\n",
       "      <td>17431.96</td>\n",
       "      <td>6.99</td>\n",
       "      <td>1</td>\n",
       "      <td>0</td>\n",
       "    </tr>\n",
       "    <tr>\n",
       "      <th>3</th>\n",
       "      <td>1661240395903230676</td>\n",
       "      <td>2018-08-01</td>\n",
       "      <td>2018-08-30</td>\n",
       "      <td>2018-10-11</td>\n",
       "      <td>2018-10-05</td>\n",
       "      <td>1341.00</td>\n",
       "      <td>6.99</td>\n",
       "      <td>6</td>\n",
       "      <td>1</td>\n",
       "    </tr>\n",
       "    <tr>\n",
       "      <th>4</th>\n",
       "      <td>1661240395903230676</td>\n",
       "      <td>2018-08-01</td>\n",
       "      <td>2018-08-31</td>\n",
       "      <td>2018-09-20</td>\n",
       "      <td>2018-09-20</td>\n",
       "      <td>21309.85</td>\n",
       "      <td>6.99</td>\n",
       "      <td>0</td>\n",
       "      <td>0</td>\n",
       "    </tr>\n",
       "  </tbody>\n",
       "</table>\n",
       "</div>"
      ],
      "text/plain": [
       "            ID_CLIENTE  SAFRA_REF DATA_EMISSAO_DOCUMENTO DATA_PAGAMENTO  \\\n",
       "0  1661240395903230676 2018-08-01             2018-08-17     2018-09-06   \n",
       "1  1661240395903230676 2018-08-01             2018-08-19     2018-09-11   \n",
       "2  1661240395903230676 2018-08-01             2018-08-26     2018-09-18   \n",
       "3  1661240395903230676 2018-08-01             2018-08-30     2018-10-11   \n",
       "4  1661240395903230676 2018-08-01             2018-08-31     2018-09-20   \n",
       "\n",
       "  DATA_VENCIMENTO  VALOR_A_PAGAR  TAXA  DIAS_ATRASO  INADIMPLENTE  \n",
       "0      2018-09-06       35516.41  6.99            0             0  \n",
       "1      2018-09-10       17758.21  6.99            1             0  \n",
       "2      2018-09-17       17431.96  6.99            1             0  \n",
       "3      2018-10-05        1341.00  6.99            6             1  \n",
       "4      2018-09-20       21309.85  6.99            0             0  "
      ]
     },
     "execution_count": 14,
     "metadata": {},
     "output_type": "execute_result"
    }
   ],
   "source": [
    "base_dev.head()"
   ]
  },
  {
   "cell_type": "markdown",
   "id": "b0cf3e3c",
   "metadata": {},
   "source": [
    "# base info"
   ]
  },
  {
   "cell_type": "code",
   "execution_count": 15,
   "id": "3fc9f981",
   "metadata": {},
   "outputs": [
    {
     "data": {
      "text/html": [
       "<div>\n",
       "<style scoped>\n",
       "    .dataframe tbody tr th:only-of-type {\n",
       "        vertical-align: middle;\n",
       "    }\n",
       "\n",
       "    .dataframe tbody tr th {\n",
       "        vertical-align: top;\n",
       "    }\n",
       "\n",
       "    .dataframe thead th {\n",
       "        text-align: right;\n",
       "    }\n",
       "</style>\n",
       "<table border=\"1\" class=\"dataframe\">\n",
       "  <thead>\n",
       "    <tr style=\"text-align: right;\">\n",
       "      <th></th>\n",
       "      <th>ID_CLIENTE</th>\n",
       "      <th>SAFRA_REF</th>\n",
       "      <th>RENDA_MES_ANTERIOR</th>\n",
       "      <th>NO_FUNCIONARIOS</th>\n",
       "    </tr>\n",
       "  </thead>\n",
       "  <tbody>\n",
       "    <tr>\n",
       "      <th>0</th>\n",
       "      <td>1661240395903230676</td>\n",
       "      <td>2018-09</td>\n",
       "      <td>16913.0</td>\n",
       "      <td>NaN</td>\n",
       "    </tr>\n",
       "    <tr>\n",
       "      <th>1</th>\n",
       "      <td>8274986328479596038</td>\n",
       "      <td>2018-09</td>\n",
       "      <td>106430.0</td>\n",
       "      <td>141.0</td>\n",
       "    </tr>\n",
       "    <tr>\n",
       "      <th>2</th>\n",
       "      <td>345447888460137901</td>\n",
       "      <td>2018-09</td>\n",
       "      <td>707439.0</td>\n",
       "      <td>99.0</td>\n",
       "    </tr>\n",
       "    <tr>\n",
       "      <th>3</th>\n",
       "      <td>1003144834589372198</td>\n",
       "      <td>2018-09</td>\n",
       "      <td>239659.0</td>\n",
       "      <td>96.0</td>\n",
       "    </tr>\n",
       "    <tr>\n",
       "      <th>4</th>\n",
       "      <td>324916756972236008</td>\n",
       "      <td>2018-09</td>\n",
       "      <td>203123.0</td>\n",
       "      <td>103.0</td>\n",
       "    </tr>\n",
       "  </tbody>\n",
       "</table>\n",
       "</div>"
      ],
      "text/plain": [
       "            ID_CLIENTE SAFRA_REF  RENDA_MES_ANTERIOR  NO_FUNCIONARIOS\n",
       "0  1661240395903230676   2018-09             16913.0              NaN\n",
       "1  8274986328479596038   2018-09            106430.0            141.0\n",
       "2   345447888460137901   2018-09            707439.0             99.0\n",
       "3  1003144834589372198   2018-09            239659.0             96.0\n",
       "4   324916756972236008   2018-09            203123.0            103.0"
      ]
     },
     "execution_count": 15,
     "metadata": {},
     "output_type": "execute_result"
    }
   ],
   "source": [
    "base_info = pd.read_csv('datarisk-case-ds-junior/data/base_info.csv', sep=';')\n",
    "base_info.head()"
   ]
  },
  {
   "cell_type": "code",
   "execution_count": 16,
   "id": "c4280a95",
   "metadata": {},
   "outputs": [
    {
     "name": "stdout",
     "output_type": "stream",
     "text": [
      "<class 'pandas.core.frame.DataFrame'>\n",
      "RangeIndex: 24401 entries, 0 to 24400\n",
      "Data columns (total 4 columns):\n",
      " #   Column              Non-Null Count  Dtype  \n",
      "---  ------              --------------  -----  \n",
      " 0   ID_CLIENTE          24401 non-null  int64  \n",
      " 1   SAFRA_REF           24401 non-null  object \n",
      " 2   RENDA_MES_ANTERIOR  23684 non-null  float64\n",
      " 3   NO_FUNCIONARIOS     23149 non-null  float64\n",
      "dtypes: float64(2), int64(1), object(1)\n",
      "memory usage: 762.7+ KB\n"
     ]
    }
   ],
   "source": [
    "base_info.info()"
   ]
  },
  {
   "cell_type": "code",
   "execution_count": 18,
   "id": "b470d088",
   "metadata": {},
   "outputs": [
    {
     "name": "stdout",
     "output_type": "stream",
     "text": [
      "  - Linhas antes: 24401\n",
      "  - Linhas depois: 22465\n",
      "  - Linhas vazias: 1936 (7.93% do total)\n"
     ]
    }
   ],
   "source": [
    "mostrar_linhas_vazias(base_info)"
   ]
  },
  {
   "cell_type": "code",
   "execution_count": null,
   "id": "f9c2aa75",
   "metadata": {},
   "outputs": [],
   "source": []
  },
  {
   "cell_type": "code",
   "execution_count": null,
   "id": "d3f1bbc0",
   "metadata": {},
   "outputs": [],
   "source": []
  },
  {
   "cell_type": "code",
   "execution_count": null,
   "id": "f8107c55",
   "metadata": {},
   "outputs": [],
   "source": []
  },
  {
   "cell_type": "code",
   "execution_count": null,
   "id": "d6cff092",
   "metadata": {},
   "outputs": [],
   "source": []
  }
 ],
 "metadata": {
  "kernelspec": {
   "display_name": ".venv",
   "language": "python",
   "name": "python3"
  },
  "language_info": {
   "codemirror_mode": {
    "name": "ipython",
    "version": 3
   },
   "file_extension": ".py",
   "mimetype": "text/x-python",
   "name": "python",
   "nbconvert_exporter": "python",
   "pygments_lexer": "ipython3",
   "version": "3.12.10"
  }
 },
 "nbformat": 4,
 "nbformat_minor": 5
}
