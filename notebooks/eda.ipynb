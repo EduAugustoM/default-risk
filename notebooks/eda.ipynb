{
 "cells": [
  {
   "cell_type": "code",
   "execution_count": 1,
   "id": "f8107c55",
   "metadata": {},
   "outputs": [],
   "source": [
    "import pandas as pd\n",
    "import numpy as np\n",
    "import sys\n",
    "import os\n",
    "sys.path.append(os.path.abspath('..'))\n",
    "from src.preprocessing import extrair_dados_csv\n",
    "from src.utils import converter_colunas_datetime\n",
    "from src.utils import mostrar_linhas_vazias"
   ]
  },
  {
   "cell_type": "code",
   "execution_count": 2,
   "id": "84b659c3",
   "metadata": {},
   "outputs": [],
   "source": [
    "caminho_csv = '../data'\n",
    "dados_brutos = extrair_dados_csv(caminho_csv)"
   ]
  },
  {
   "cell_type": "code",
   "execution_count": 3,
   "id": "d6cff092",
   "metadata": {},
   "outputs": [],
   "source": [
    "df_dev = dados_brutos['pagamentos_dev'].copy()\n",
    "df_info = dados_brutos['info'].copy()\n",
    "df_cadastral = dados_brutos['cadastral'].copy()\n",
    "df_teste = dados_brutos['pagamentos_teste'].copy()"
   ]
  },
  {
   "cell_type": "code",
   "execution_count": 4,
   "id": "1ce42a8c",
   "metadata": {},
   "outputs": [
    {
     "data": {
      "text/html": [
       "<div>\n",
       "<style scoped>\n",
       "    .dataframe tbody tr th:only-of-type {\n",
       "        vertical-align: middle;\n",
       "    }\n",
       "\n",
       "    .dataframe tbody tr th {\n",
       "        vertical-align: top;\n",
       "    }\n",
       "\n",
       "    .dataframe thead th {\n",
       "        text-align: right;\n",
       "    }\n",
       "</style>\n",
       "<table border=\"1\" class=\"dataframe\">\n",
       "  <thead>\n",
       "    <tr style=\"text-align: right;\">\n",
       "      <th></th>\n",
       "      <th>ID_CLIENTE</th>\n",
       "      <th>SAFRA_REF</th>\n",
       "      <th>DATA_EMISSAO_DOCUMENTO</th>\n",
       "      <th>DATA_PAGAMENTO</th>\n",
       "      <th>DATA_VENCIMENTO</th>\n",
       "      <th>VALOR_A_PAGAR</th>\n",
       "      <th>TAXA</th>\n",
       "    </tr>\n",
       "  </thead>\n",
       "  <tbody>\n",
       "    <tr>\n",
       "      <th>0</th>\n",
       "      <td>1661240395903230676</td>\n",
       "      <td>2018-08</td>\n",
       "      <td>2018-08-17</td>\n",
       "      <td>2018-09-06</td>\n",
       "      <td>2018-09-06</td>\n",
       "      <td>35516.41</td>\n",
       "      <td>6.99</td>\n",
       "    </tr>\n",
       "    <tr>\n",
       "      <th>1</th>\n",
       "      <td>1661240395903230676</td>\n",
       "      <td>2018-08</td>\n",
       "      <td>2018-08-19</td>\n",
       "      <td>2018-09-11</td>\n",
       "      <td>2018-09-10</td>\n",
       "      <td>17758.21</td>\n",
       "      <td>6.99</td>\n",
       "    </tr>\n",
       "    <tr>\n",
       "      <th>2</th>\n",
       "      <td>1661240395903230676</td>\n",
       "      <td>2018-08</td>\n",
       "      <td>2018-08-26</td>\n",
       "      <td>2018-09-18</td>\n",
       "      <td>2018-09-17</td>\n",
       "      <td>17431.96</td>\n",
       "      <td>6.99</td>\n",
       "    </tr>\n",
       "    <tr>\n",
       "      <th>3</th>\n",
       "      <td>1661240395903230676</td>\n",
       "      <td>2018-08</td>\n",
       "      <td>2018-08-30</td>\n",
       "      <td>2018-10-11</td>\n",
       "      <td>2018-10-05</td>\n",
       "      <td>1341.00</td>\n",
       "      <td>6.99</td>\n",
       "    </tr>\n",
       "    <tr>\n",
       "      <th>4</th>\n",
       "      <td>1661240395903230676</td>\n",
       "      <td>2018-08</td>\n",
       "      <td>2018-08-31</td>\n",
       "      <td>2018-09-20</td>\n",
       "      <td>2018-09-20</td>\n",
       "      <td>21309.85</td>\n",
       "      <td>6.99</td>\n",
       "    </tr>\n",
       "  </tbody>\n",
       "</table>\n",
       "</div>"
      ],
      "text/plain": [
       "            ID_CLIENTE SAFRA_REF DATA_EMISSAO_DOCUMENTO DATA_PAGAMENTO  \\\n",
       "0  1661240395903230676   2018-08             2018-08-17     2018-09-06   \n",
       "1  1661240395903230676   2018-08             2018-08-19     2018-09-11   \n",
       "2  1661240395903230676   2018-08             2018-08-26     2018-09-18   \n",
       "3  1661240395903230676   2018-08             2018-08-30     2018-10-11   \n",
       "4  1661240395903230676   2018-08             2018-08-31     2018-09-20   \n",
       "\n",
       "  DATA_VENCIMENTO  VALOR_A_PAGAR  TAXA  \n",
       "0      2018-09-06       35516.41  6.99  \n",
       "1      2018-09-10       17758.21  6.99  \n",
       "2      2018-09-17       17431.96  6.99  \n",
       "3      2018-10-05        1341.00  6.99  \n",
       "4      2018-09-20       21309.85  6.99  "
      ]
     },
     "execution_count": 4,
     "metadata": {},
     "output_type": "execute_result"
    }
   ],
   "source": [
    "df_dev.head()"
   ]
  },
  {
   "cell_type": "code",
   "execution_count": 5,
   "id": "d8c43bb9",
   "metadata": {},
   "outputs": [
    {
     "name": "stdout",
     "output_type": "stream",
     "text": [
      "<class 'pandas.core.frame.DataFrame'>\n",
      "RangeIndex: 77414 entries, 0 to 77413\n",
      "Data columns (total 7 columns):\n",
      " #   Column                  Non-Null Count  Dtype  \n",
      "---  ------                  --------------  -----  \n",
      " 0   ID_CLIENTE              77414 non-null  int64  \n",
      " 1   SAFRA_REF               77414 non-null  object \n",
      " 2   DATA_EMISSAO_DOCUMENTO  77414 non-null  object \n",
      " 3   DATA_PAGAMENTO          77414 non-null  object \n",
      " 4   DATA_VENCIMENTO         77414 non-null  object \n",
      " 5   VALOR_A_PAGAR           76244 non-null  float64\n",
      " 6   TAXA                    77414 non-null  float64\n",
      "dtypes: float64(2), int64(1), object(4)\n",
      "memory usage: 4.1+ MB\n"
     ]
    }
   ],
   "source": [
    "df_dev.info()"
   ]
  },
  {
   "cell_type": "code",
   "execution_count": 6,
   "id": "ef4d5087",
   "metadata": {},
   "outputs": [
    {
     "name": "stdout",
     "output_type": "stream",
     "text": [
      "  - Linhas antes: 77414\n",
      "  - Linhas depois: 76244\n",
      "  - Linhas vazias: 1170 (1.51% do total)\n"
     ]
    }
   ],
   "source": [
    "mostrar_linhas_vazias(df_dev)"
   ]
  },
  {
   "cell_type": "code",
   "execution_count": 7,
   "id": "2b775c0b",
   "metadata": {},
   "outputs": [],
   "source": [
    "df_dev.dropna(inplace=True)"
   ]
  },
  {
   "cell_type": "code",
   "execution_count": 8,
   "id": "9af77efb",
   "metadata": {},
   "outputs": [
    {
     "data": {
      "text/html": [
       "<div>\n",
       "<style scoped>\n",
       "    .dataframe tbody tr th:only-of-type {\n",
       "        vertical-align: middle;\n",
       "    }\n",
       "\n",
       "    .dataframe tbody tr th {\n",
       "        vertical-align: top;\n",
       "    }\n",
       "\n",
       "    .dataframe thead th {\n",
       "        text-align: right;\n",
       "    }\n",
       "</style>\n",
       "<table border=\"1\" class=\"dataframe\">\n",
       "  <thead>\n",
       "    <tr style=\"text-align: right;\">\n",
       "      <th></th>\n",
       "      <th>ID_CLIENTE</th>\n",
       "      <th>SAFRA_REF</th>\n",
       "      <th>DATA_EMISSAO_DOCUMENTO</th>\n",
       "      <th>DATA_PAGAMENTO</th>\n",
       "      <th>DATA_VENCIMENTO</th>\n",
       "      <th>VALOR_A_PAGAR</th>\n",
       "      <th>TAXA</th>\n",
       "    </tr>\n",
       "  </thead>\n",
       "  <tbody>\n",
       "    <tr>\n",
       "      <th>0</th>\n",
       "      <td>1661240395903230676</td>\n",
       "      <td>2018-08-01</td>\n",
       "      <td>2018-08-17</td>\n",
       "      <td>2018-09-06</td>\n",
       "      <td>2018-09-06</td>\n",
       "      <td>35516.41</td>\n",
       "      <td>6.99</td>\n",
       "    </tr>\n",
       "    <tr>\n",
       "      <th>1</th>\n",
       "      <td>1661240395903230676</td>\n",
       "      <td>2018-08-01</td>\n",
       "      <td>2018-08-19</td>\n",
       "      <td>2018-09-11</td>\n",
       "      <td>2018-09-10</td>\n",
       "      <td>17758.21</td>\n",
       "      <td>6.99</td>\n",
       "    </tr>\n",
       "    <tr>\n",
       "      <th>2</th>\n",
       "      <td>1661240395903230676</td>\n",
       "      <td>2018-08-01</td>\n",
       "      <td>2018-08-26</td>\n",
       "      <td>2018-09-18</td>\n",
       "      <td>2018-09-17</td>\n",
       "      <td>17431.96</td>\n",
       "      <td>6.99</td>\n",
       "    </tr>\n",
       "    <tr>\n",
       "      <th>3</th>\n",
       "      <td>1661240395903230676</td>\n",
       "      <td>2018-08-01</td>\n",
       "      <td>2018-08-30</td>\n",
       "      <td>2018-10-11</td>\n",
       "      <td>2018-10-05</td>\n",
       "      <td>1341.00</td>\n",
       "      <td>6.99</td>\n",
       "    </tr>\n",
       "    <tr>\n",
       "      <th>4</th>\n",
       "      <td>1661240395903230676</td>\n",
       "      <td>2018-08-01</td>\n",
       "      <td>2018-08-31</td>\n",
       "      <td>2018-09-20</td>\n",
       "      <td>2018-09-20</td>\n",
       "      <td>21309.85</td>\n",
       "      <td>6.99</td>\n",
       "    </tr>\n",
       "    <tr>\n",
       "      <th>...</th>\n",
       "      <td>...</td>\n",
       "      <td>...</td>\n",
       "      <td>...</td>\n",
       "      <td>...</td>\n",
       "      <td>...</td>\n",
       "      <td>...</td>\n",
       "      <td>...</td>\n",
       "    </tr>\n",
       "    <tr>\n",
       "      <th>77409</th>\n",
       "      <td>2951563549197799278</td>\n",
       "      <td>2021-06-01</td>\n",
       "      <td>2021-06-30</td>\n",
       "      <td>2021-07-16</td>\n",
       "      <td>2021-07-16</td>\n",
       "      <td>89980.00</td>\n",
       "      <td>5.99</td>\n",
       "    </tr>\n",
       "    <tr>\n",
       "      <th>77410</th>\n",
       "      <td>5220206408301580591</td>\n",
       "      <td>2021-06-01</td>\n",
       "      <td>2021-06-30</td>\n",
       "      <td>2021-08-16</td>\n",
       "      <td>2021-08-16</td>\n",
       "      <td>42239.00</td>\n",
       "      <td>5.99</td>\n",
       "    </tr>\n",
       "    <tr>\n",
       "      <th>77411</th>\n",
       "      <td>5860276371789140450</td>\n",
       "      <td>2021-06-01</td>\n",
       "      <td>2021-06-30</td>\n",
       "      <td>2021-07-16</td>\n",
       "      <td>2021-07-16</td>\n",
       "      <td>20921.50</td>\n",
       "      <td>5.99</td>\n",
       "    </tr>\n",
       "    <tr>\n",
       "      <th>77412</th>\n",
       "      <td>2814790209436551216</td>\n",
       "      <td>2021-06-01</td>\n",
       "      <td>2021-06-30</td>\n",
       "      <td>2021-07-16</td>\n",
       "      <td>2021-07-16</td>\n",
       "      <td>90231.05</td>\n",
       "      <td>6.99</td>\n",
       "    </tr>\n",
       "    <tr>\n",
       "      <th>77413</th>\n",
       "      <td>8343941262792249232</td>\n",
       "      <td>2021-06-01</td>\n",
       "      <td>2021-06-30</td>\n",
       "      <td>2021-08-16</td>\n",
       "      <td>2021-08-16</td>\n",
       "      <td>20736.51</td>\n",
       "      <td>4.99</td>\n",
       "    </tr>\n",
       "  </tbody>\n",
       "</table>\n",
       "<p>76244 rows × 7 columns</p>\n",
       "</div>"
      ],
      "text/plain": [
       "                ID_CLIENTE  SAFRA_REF DATA_EMISSAO_DOCUMENTO DATA_PAGAMENTO  \\\n",
       "0      1661240395903230676 2018-08-01             2018-08-17     2018-09-06   \n",
       "1      1661240395903230676 2018-08-01             2018-08-19     2018-09-11   \n",
       "2      1661240395903230676 2018-08-01             2018-08-26     2018-09-18   \n",
       "3      1661240395903230676 2018-08-01             2018-08-30     2018-10-11   \n",
       "4      1661240395903230676 2018-08-01             2018-08-31     2018-09-20   \n",
       "...                    ...        ...                    ...            ...   \n",
       "77409  2951563549197799278 2021-06-01             2021-06-30     2021-07-16   \n",
       "77410  5220206408301580591 2021-06-01             2021-06-30     2021-08-16   \n",
       "77411  5860276371789140450 2021-06-01             2021-06-30     2021-07-16   \n",
       "77412  2814790209436551216 2021-06-01             2021-06-30     2021-07-16   \n",
       "77413  8343941262792249232 2021-06-01             2021-06-30     2021-08-16   \n",
       "\n",
       "      DATA_VENCIMENTO  VALOR_A_PAGAR  TAXA  \n",
       "0          2018-09-06       35516.41  6.99  \n",
       "1          2018-09-10       17758.21  6.99  \n",
       "2          2018-09-17       17431.96  6.99  \n",
       "3          2018-10-05        1341.00  6.99  \n",
       "4          2018-09-20       21309.85  6.99  \n",
       "...               ...            ...   ...  \n",
       "77409      2021-07-16       89980.00  5.99  \n",
       "77410      2021-08-16       42239.00  5.99  \n",
       "77411      2021-07-16       20921.50  5.99  \n",
       "77412      2021-07-16       90231.05  6.99  \n",
       "77413      2021-08-16       20736.51  4.99  \n",
       "\n",
       "[76244 rows x 7 columns]"
      ]
     },
     "execution_count": 8,
     "metadata": {},
     "output_type": "execute_result"
    }
   ],
   "source": [
    "converter_colunas_datetime(df_dev, ['SAFRA_REF','DATA_EMISSAO_DOCUMENTO','DATA_PAGAMENTO', 'DATA_VENCIMENTO'])"
   ]
  },
  {
   "cell_type": "code",
   "execution_count": 9,
   "id": "7839c717",
   "metadata": {},
   "outputs": [
    {
     "data": {
      "text/plain": [
       "np.int64(0)"
      ]
     },
     "execution_count": 9,
     "metadata": {},
     "output_type": "execute_result"
    }
   ],
   "source": [
    "df_dev.duplicated().sum()"
   ]
  },
  {
   "cell_type": "code",
   "execution_count": 10,
   "id": "5180ee11",
   "metadata": {},
   "outputs": [],
   "source": [
    "df_dev['DIAS_ATRASO'] = (df_dev['DATA_PAGAMENTO'] - df_dev['DATA_VENCIMENTO']).dt.days\n",
    "df_dev['INADIMPLENTE'] = (df_dev['DIAS_ATRASO'] >= 5).astype(int)"
   ]
  },
  {
   "cell_type": "code",
   "execution_count": 11,
   "id": "0bf63fd9",
   "metadata": {},
   "outputs": [
    {
     "name": "stdout",
     "output_type": "stream",
     "text": [
      "<class 'pandas.core.frame.DataFrame'>\n",
      "RangeIndex: 24401 entries, 0 to 24400\n",
      "Data columns (total 4 columns):\n",
      " #   Column              Non-Null Count  Dtype  \n",
      "---  ------              --------------  -----  \n",
      " 0   ID_CLIENTE          24401 non-null  int64  \n",
      " 1   SAFRA_REF           24401 non-null  object \n",
      " 2   RENDA_MES_ANTERIOR  23684 non-null  float64\n",
      " 3   NO_FUNCIONARIOS     23149 non-null  float64\n",
      "dtypes: float64(2), int64(1), object(1)\n",
      "memory usage: 762.7+ KB\n"
     ]
    }
   ],
   "source": [
    "df_info.info()"
   ]
  },
  {
   "cell_type": "code",
   "execution_count": 12,
   "id": "01e5de4f",
   "metadata": {},
   "outputs": [
    {
     "name": "stdout",
     "output_type": "stream",
     "text": [
      "  - Linhas antes: 24401\n",
      "  - Linhas depois: 22465\n",
      "  - Linhas vazias: 1936 (7.93% do total)\n"
     ]
    }
   ],
   "source": [
    "mostrar_linhas_vazias(df_info)"
   ]
  },
  {
   "cell_type": "code",
   "execution_count": 13,
   "id": "ce3912a8",
   "metadata": {},
   "outputs": [],
   "source": [
    "df_info['FUNCIONARIOS_FALTANTES'] = df_info['NO_FUNCIONARIOS'].isnull().astype(int)\n",
    "df_info['RENDA_FALTANTE'] = df_info['RENDA_MES_ANTERIOR'].isnull().astype(int)"
   ]
  },
  {
   "cell_type": "code",
   "execution_count": 14,
   "id": "8c905bb0",
   "metadata": {},
   "outputs": [
    {
     "data": {
      "text/html": [
       "<div>\n",
       "<style scoped>\n",
       "    .dataframe tbody tr th:only-of-type {\n",
       "        vertical-align: middle;\n",
       "    }\n",
       "\n",
       "    .dataframe tbody tr th {\n",
       "        vertical-align: top;\n",
       "    }\n",
       "\n",
       "    .dataframe thead th {\n",
       "        text-align: right;\n",
       "    }\n",
       "</style>\n",
       "<table border=\"1\" class=\"dataframe\">\n",
       "  <thead>\n",
       "    <tr style=\"text-align: right;\">\n",
       "      <th></th>\n",
       "      <th>ID_CLIENTE</th>\n",
       "      <th>SAFRA_REF</th>\n",
       "      <th>RENDA_MES_ANTERIOR</th>\n",
       "      <th>NO_FUNCIONARIOS</th>\n",
       "      <th>FUNCIONARIOS_FALTANTES</th>\n",
       "      <th>RENDA_FALTANTE</th>\n",
       "    </tr>\n",
       "  </thead>\n",
       "  <tbody>\n",
       "    <tr>\n",
       "      <th>0</th>\n",
       "      <td>1661240395903230676</td>\n",
       "      <td>2018-09-01</td>\n",
       "      <td>16913.0</td>\n",
       "      <td>NaN</td>\n",
       "      <td>1</td>\n",
       "      <td>0</td>\n",
       "    </tr>\n",
       "    <tr>\n",
       "      <th>1</th>\n",
       "      <td>8274986328479596038</td>\n",
       "      <td>2018-09-01</td>\n",
       "      <td>106430.0</td>\n",
       "      <td>141.0</td>\n",
       "      <td>0</td>\n",
       "      <td>0</td>\n",
       "    </tr>\n",
       "    <tr>\n",
       "      <th>2</th>\n",
       "      <td>345447888460137901</td>\n",
       "      <td>2018-09-01</td>\n",
       "      <td>707439.0</td>\n",
       "      <td>99.0</td>\n",
       "      <td>0</td>\n",
       "      <td>0</td>\n",
       "    </tr>\n",
       "    <tr>\n",
       "      <th>3</th>\n",
       "      <td>1003144834589372198</td>\n",
       "      <td>2018-09-01</td>\n",
       "      <td>239659.0</td>\n",
       "      <td>96.0</td>\n",
       "      <td>0</td>\n",
       "      <td>0</td>\n",
       "    </tr>\n",
       "    <tr>\n",
       "      <th>4</th>\n",
       "      <td>324916756972236008</td>\n",
       "      <td>2018-09-01</td>\n",
       "      <td>203123.0</td>\n",
       "      <td>103.0</td>\n",
       "      <td>0</td>\n",
       "      <td>0</td>\n",
       "    </tr>\n",
       "    <tr>\n",
       "      <th>...</th>\n",
       "      <td>...</td>\n",
       "      <td>...</td>\n",
       "      <td>...</td>\n",
       "      <td>...</td>\n",
       "      <td>...</td>\n",
       "      <td>...</td>\n",
       "    </tr>\n",
       "    <tr>\n",
       "      <th>24396</th>\n",
       "      <td>705648002974742140</td>\n",
       "      <td>2021-12-01</td>\n",
       "      <td>278663.0</td>\n",
       "      <td>105.0</td>\n",
       "      <td>0</td>\n",
       "      <td>0</td>\n",
       "    </tr>\n",
       "    <tr>\n",
       "      <th>24397</th>\n",
       "      <td>4993499380140734678</td>\n",
       "      <td>2021-12-01</td>\n",
       "      <td>156968.0</td>\n",
       "      <td>140.0</td>\n",
       "      <td>0</td>\n",
       "      <td>0</td>\n",
       "    </tr>\n",
       "    <tr>\n",
       "      <th>24398</th>\n",
       "      <td>4614484019183480654</td>\n",
       "      <td>2021-12-01</td>\n",
       "      <td>292698.0</td>\n",
       "      <td>121.0</td>\n",
       "      <td>0</td>\n",
       "      <td>0</td>\n",
       "    </tr>\n",
       "    <tr>\n",
       "      <th>24399</th>\n",
       "      <td>1299146298565441811</td>\n",
       "      <td>2021-12-01</td>\n",
       "      <td>106180.0</td>\n",
       "      <td>121.0</td>\n",
       "      <td>0</td>\n",
       "      <td>0</td>\n",
       "    </tr>\n",
       "    <tr>\n",
       "      <th>24400</th>\n",
       "      <td>4061297388883391410</td>\n",
       "      <td>2021-12-01</td>\n",
       "      <td>338952.0</td>\n",
       "      <td>127.0</td>\n",
       "      <td>0</td>\n",
       "      <td>0</td>\n",
       "    </tr>\n",
       "  </tbody>\n",
       "</table>\n",
       "<p>24401 rows × 6 columns</p>\n",
       "</div>"
      ],
      "text/plain": [
       "                ID_CLIENTE  SAFRA_REF  RENDA_MES_ANTERIOR  NO_FUNCIONARIOS  \\\n",
       "0      1661240395903230676 2018-09-01             16913.0              NaN   \n",
       "1      8274986328479596038 2018-09-01            106430.0            141.0   \n",
       "2       345447888460137901 2018-09-01            707439.0             99.0   \n",
       "3      1003144834589372198 2018-09-01            239659.0             96.0   \n",
       "4       324916756972236008 2018-09-01            203123.0            103.0   \n",
       "...                    ...        ...                 ...              ...   \n",
       "24396   705648002974742140 2021-12-01            278663.0            105.0   \n",
       "24397  4993499380140734678 2021-12-01            156968.0            140.0   \n",
       "24398  4614484019183480654 2021-12-01            292698.0            121.0   \n",
       "24399  1299146298565441811 2021-12-01            106180.0            121.0   \n",
       "24400  4061297388883391410 2021-12-01            338952.0            127.0   \n",
       "\n",
       "       FUNCIONARIOS_FALTANTES  RENDA_FALTANTE  \n",
       "0                           1               0  \n",
       "1                           0               0  \n",
       "2                           0               0  \n",
       "3                           0               0  \n",
       "4                           0               0  \n",
       "...                       ...             ...  \n",
       "24396                       0               0  \n",
       "24397                       0               0  \n",
       "24398                       0               0  \n",
       "24399                       0               0  \n",
       "24400                       0               0  \n",
       "\n",
       "[24401 rows x 6 columns]"
      ]
     },
     "execution_count": 14,
     "metadata": {},
     "output_type": "execute_result"
    }
   ],
   "source": [
    "converter_colunas_datetime(df_info,['SAFRA_REF'])"
   ]
  },
  {
   "cell_type": "code",
   "execution_count": 15,
   "id": "5437f9d6",
   "metadata": {},
   "outputs": [
    {
     "data": {
      "text/plain": [
       "np.int64(0)"
      ]
     },
     "execution_count": 15,
     "metadata": {},
     "output_type": "execute_result"
    }
   ],
   "source": [
    "df_info.duplicated().sum()"
   ]
  },
  {
   "cell_type": "code",
   "execution_count": 16,
   "id": "63ab6cc8",
   "metadata": {},
   "outputs": [
    {
     "name": "stdout",
     "output_type": "stream",
     "text": [
      "<class 'pandas.core.frame.DataFrame'>\n",
      "RangeIndex: 1315 entries, 0 to 1314\n",
      "Data columns (total 8 columns):\n",
      " #   Column               Non-Null Count  Dtype \n",
      "---  ------               --------------  ----- \n",
      " 0   ID_CLIENTE           1315 non-null   int64 \n",
      " 1   DATA_CADASTRO        1315 non-null   object\n",
      " 2   DDD                  1078 non-null   object\n",
      " 3   FLAG_PF              66 non-null     object\n",
      " 4   SEGMENTO_INDUSTRIAL  1232 non-null   object\n",
      " 5   DOMINIO_EMAIL        1285 non-null   object\n",
      " 6   PORTE                1274 non-null   object\n",
      " 7   CEP_2_DIG            1315 non-null   object\n",
      "dtypes: int64(1), object(7)\n",
      "memory usage: 82.3+ KB\n"
     ]
    }
   ],
   "source": [
    "df_cadastral.info()"
   ]
  },
  {
   "cell_type": "code",
   "execution_count": 17,
   "id": "137f7546",
   "metadata": {},
   "outputs": [],
   "source": [
    "df_cadastral['FLAG_PF'] = df_cadastral['FLAG_PF'].apply(lambda x: 1 if x == 'X' else 0)"
   ]
  },
  {
   "cell_type": "code",
   "execution_count": 18,
   "id": "12247aef",
   "metadata": {},
   "outputs": [],
   "source": [
    "for col in ['SEGMENTO_INDUSTRIAL', 'PORTE', 'DOMINIO_EMAIL']:\n",
    "    df_cadastral[col] = df_cadastral[col].fillna('DESCONHECIDO')"
   ]
  },
  {
   "cell_type": "code",
   "execution_count": 19,
   "id": "abf098a3",
   "metadata": {},
   "outputs": [],
   "source": [
    "df_cadastral.drop('DDD', axis=1, inplace=True)"
   ]
  },
  {
   "cell_type": "code",
   "execution_count": 20,
   "id": "77864cd4",
   "metadata": {},
   "outputs": [
    {
     "name": "stdout",
     "output_type": "stream",
     "text": [
      "  - Linhas antes: 1315\n",
      "  - Linhas depois: 1315\n",
      "  - Linhas vazias: 0 (0.00% do total)\n"
     ]
    }
   ],
   "source": [
    "mostrar_linhas_vazias(df_cadastral)"
   ]
  },
  {
   "cell_type": "code",
   "execution_count": 21,
   "id": "aad24763",
   "metadata": {},
   "outputs": [
    {
     "data": {
      "text/plain": [
       "np.int64(0)"
      ]
     },
     "execution_count": 21,
     "metadata": {},
     "output_type": "execute_result"
    }
   ],
   "source": [
    "df_cadastral.duplicated().sum()"
   ]
  },
  {
   "cell_type": "code",
   "execution_count": 22,
   "id": "d245fe32",
   "metadata": {},
   "outputs": [
    {
     "name": "stdout",
     "output_type": "stream",
     "text": [
      "<class 'pandas.core.frame.DataFrame'>\n",
      "RangeIndex: 12275 entries, 0 to 12274\n",
      "Data columns (total 6 columns):\n",
      " #   Column                  Non-Null Count  Dtype  \n",
      "---  ------                  --------------  -----  \n",
      " 0   ID_CLIENTE              12275 non-null  int64  \n",
      " 1   SAFRA_REF               12275 non-null  object \n",
      " 2   DATA_EMISSAO_DOCUMENTO  12275 non-null  object \n",
      " 3   DATA_VENCIMENTO         12275 non-null  object \n",
      " 4   VALOR_A_PAGAR           12144 non-null  float64\n",
      " 5   TAXA                    12275 non-null  float64\n",
      "dtypes: float64(2), int64(1), object(3)\n",
      "memory usage: 575.5+ KB\n"
     ]
    }
   ],
   "source": [
    "df_teste.info()"
   ]
  },
  {
   "cell_type": "code",
   "execution_count": 23,
   "id": "1f259c5e",
   "metadata": {},
   "outputs": [
    {
     "name": "stdout",
     "output_type": "stream",
     "text": [
      "  - Linhas antes: 12275\n",
      "  - Linhas depois: 12144\n",
      "  - Linhas vazias: 131 (1.07% do total)\n"
     ]
    }
   ],
   "source": [
    "mostrar_linhas_vazias(df_teste)"
   ]
  },
  {
   "cell_type": "code",
   "execution_count": 24,
   "id": "dea7c477",
   "metadata": {},
   "outputs": [],
   "source": [
    "df_teste.dropna(inplace=True)"
   ]
  },
  {
   "cell_type": "code",
   "execution_count": 25,
   "id": "ed894364",
   "metadata": {},
   "outputs": [
    {
     "data": {
      "text/html": [
       "<div>\n",
       "<style scoped>\n",
       "    .dataframe tbody tr th:only-of-type {\n",
       "        vertical-align: middle;\n",
       "    }\n",
       "\n",
       "    .dataframe tbody tr th {\n",
       "        vertical-align: top;\n",
       "    }\n",
       "\n",
       "    .dataframe thead th {\n",
       "        text-align: right;\n",
       "    }\n",
       "</style>\n",
       "<table border=\"1\" class=\"dataframe\">\n",
       "  <thead>\n",
       "    <tr style=\"text-align: right;\">\n",
       "      <th></th>\n",
       "      <th>ID_CLIENTE</th>\n",
       "      <th>SAFRA_REF</th>\n",
       "      <th>DATA_EMISSAO_DOCUMENTO</th>\n",
       "      <th>DATA_VENCIMENTO</th>\n",
       "      <th>VALOR_A_PAGAR</th>\n",
       "      <th>TAXA</th>\n",
       "    </tr>\n",
       "  </thead>\n",
       "  <tbody>\n",
       "    <tr>\n",
       "      <th>0</th>\n",
       "      <td>5058298901476893676</td>\n",
       "      <td>2021-07-01</td>\n",
       "      <td>2021-07-14</td>\n",
       "      <td>2021-08-04</td>\n",
       "      <td>11204.75</td>\n",
       "      <td>4.99</td>\n",
       "    </tr>\n",
       "    <tr>\n",
       "      <th>1</th>\n",
       "      <td>274692171162531764</td>\n",
       "      <td>2021-07-01</td>\n",
       "      <td>2021-07-08</td>\n",
       "      <td>2021-08-23</td>\n",
       "      <td>60718.50</td>\n",
       "      <td>5.99</td>\n",
       "    </tr>\n",
       "    <tr>\n",
       "      <th>2</th>\n",
       "      <td>274692171162531764</td>\n",
       "      <td>2021-07-01</td>\n",
       "      <td>2021-07-11</td>\n",
       "      <td>2021-08-25</td>\n",
       "      <td>60718.50</td>\n",
       "      <td>5.99</td>\n",
       "    </tr>\n",
       "    <tr>\n",
       "      <th>3</th>\n",
       "      <td>274692171162531764</td>\n",
       "      <td>2021-07-01</td>\n",
       "      <td>2021-07-16</td>\n",
       "      <td>2021-08-30</td>\n",
       "      <td>62250.00</td>\n",
       "      <td>5.99</td>\n",
       "    </tr>\n",
       "    <tr>\n",
       "      <th>4</th>\n",
       "      <td>465309249432033993</td>\n",
       "      <td>2021-07-01</td>\n",
       "      <td>2021-07-05</td>\n",
       "      <td>2021-07-30</td>\n",
       "      <td>26593.95</td>\n",
       "      <td>6.99</td>\n",
       "    </tr>\n",
       "    <tr>\n",
       "      <th>...</th>\n",
       "      <td>...</td>\n",
       "      <td>...</td>\n",
       "      <td>...</td>\n",
       "      <td>...</td>\n",
       "      <td>...</td>\n",
       "      <td>...</td>\n",
       "    </tr>\n",
       "    <tr>\n",
       "      <th>12270</th>\n",
       "      <td>705648002974742140</td>\n",
       "      <td>2021-11-01</td>\n",
       "      <td>2021-11-25</td>\n",
       "      <td>2021-12-13</td>\n",
       "      <td>47010.00</td>\n",
       "      <td>6.99</td>\n",
       "    </tr>\n",
       "    <tr>\n",
       "      <th>12271</th>\n",
       "      <td>4993499380140734678</td>\n",
       "      <td>2021-11-01</td>\n",
       "      <td>2021-11-25</td>\n",
       "      <td>2021-12-13</td>\n",
       "      <td>122875.35</td>\n",
       "      <td>8.99</td>\n",
       "    </tr>\n",
       "    <tr>\n",
       "      <th>12272</th>\n",
       "      <td>4614484019183480654</td>\n",
       "      <td>2021-11-01</td>\n",
       "      <td>2021-11-26</td>\n",
       "      <td>2028-09-30</td>\n",
       "      <td>302200.00</td>\n",
       "      <td>5.99</td>\n",
       "    </tr>\n",
       "    <tr>\n",
       "      <th>12273</th>\n",
       "      <td>1299146298565441811</td>\n",
       "      <td>2021-11-01</td>\n",
       "      <td>2021-11-26</td>\n",
       "      <td>2021-12-13</td>\n",
       "      <td>143791.85</td>\n",
       "      <td>5.99</td>\n",
       "    </tr>\n",
       "    <tr>\n",
       "      <th>12274</th>\n",
       "      <td>4061297388883391410</td>\n",
       "      <td>2021-11-01</td>\n",
       "      <td>2021-11-28</td>\n",
       "      <td>2021-12-23</td>\n",
       "      <td>23724.10</td>\n",
       "      <td>4.99</td>\n",
       "    </tr>\n",
       "  </tbody>\n",
       "</table>\n",
       "<p>12144 rows × 6 columns</p>\n",
       "</div>"
      ],
      "text/plain": [
       "                ID_CLIENTE  SAFRA_REF DATA_EMISSAO_DOCUMENTO DATA_VENCIMENTO  \\\n",
       "0      5058298901476893676 2021-07-01             2021-07-14      2021-08-04   \n",
       "1       274692171162531764 2021-07-01             2021-07-08      2021-08-23   \n",
       "2       274692171162531764 2021-07-01             2021-07-11      2021-08-25   \n",
       "3       274692171162531764 2021-07-01             2021-07-16      2021-08-30   \n",
       "4       465309249432033993 2021-07-01             2021-07-05      2021-07-30   \n",
       "...                    ...        ...                    ...             ...   \n",
       "12270   705648002974742140 2021-11-01             2021-11-25      2021-12-13   \n",
       "12271  4993499380140734678 2021-11-01             2021-11-25      2021-12-13   \n",
       "12272  4614484019183480654 2021-11-01             2021-11-26      2028-09-30   \n",
       "12273  1299146298565441811 2021-11-01             2021-11-26      2021-12-13   \n",
       "12274  4061297388883391410 2021-11-01             2021-11-28      2021-12-23   \n",
       "\n",
       "       VALOR_A_PAGAR  TAXA  \n",
       "0           11204.75  4.99  \n",
       "1           60718.50  5.99  \n",
       "2           60718.50  5.99  \n",
       "3           62250.00  5.99  \n",
       "4           26593.95  6.99  \n",
       "...              ...   ...  \n",
       "12270       47010.00  6.99  \n",
       "12271      122875.35  8.99  \n",
       "12272      302200.00  5.99  \n",
       "12273      143791.85  5.99  \n",
       "12274       23724.10  4.99  \n",
       "\n",
       "[12144 rows x 6 columns]"
      ]
     },
     "execution_count": 25,
     "metadata": {},
     "output_type": "execute_result"
    }
   ],
   "source": [
    "converter_colunas_datetime(df_teste, ['SAFRA_REF','DATA_EMISSAO_DOCUMENTO', 'DATA_VENCIMENTO'])"
   ]
  },
  {
   "cell_type": "code",
   "execution_count": 26,
   "id": "80545bc6",
   "metadata": {},
   "outputs": [
    {
     "data": {
      "text/plain": [
       "np.int64(11)"
      ]
     },
     "execution_count": 26,
     "metadata": {},
     "output_type": "execute_result"
    }
   ],
   "source": [
    "df_teste.duplicated().sum()"
   ]
  },
  {
   "cell_type": "code",
   "execution_count": 27,
   "id": "8b31ab59",
   "metadata": {},
   "outputs": [],
   "source": [
    "df_teste.drop_duplicates(inplace=True)"
   ]
  },
  {
   "cell_type": "code",
   "execution_count": null,
   "id": "5642c758",
   "metadata": {},
   "outputs": [],
   "source": []
  },
  {
   "cell_type": "code",
   "execution_count": null,
   "id": "900d572b",
   "metadata": {},
   "outputs": [],
   "source": []
  },
  {
   "cell_type": "code",
   "execution_count": null,
   "id": "8181bb4f",
   "metadata": {},
   "outputs": [],
   "source": []
  }
 ],
 "metadata": {
  "kernelspec": {
   "display_name": ".venv",
   "language": "python",
   "name": "python3"
  },
  "language_info": {
   "codemirror_mode": {
    "name": "ipython",
    "version": 3
   },
   "file_extension": ".py",
   "mimetype": "text/x-python",
   "name": "python",
   "nbconvert_exporter": "python",
   "pygments_lexer": "ipython3",
   "version": "3.12.10"
  }
 },
 "nbformat": 4,
 "nbformat_minor": 5
}
